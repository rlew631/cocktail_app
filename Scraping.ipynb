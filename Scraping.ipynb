{
 "cells": [
  {
   "cell_type": "markdown",
   "metadata": {},
   "source": [
    "# Sorting through the cocktails from https://www.thecocktaildb.com/api.php"
   ]
  },
  {
   "cell_type": "code",
   "execution_count": 2,
   "metadata": {},
   "outputs": [],
   "source": [
    "import os\n",
    "import json\n",
    "import requests\n",
    "import pandas as pd"
   ]
  },
  {
   "cell_type": "code",
   "execution_count": 3,
   "metadata": {},
   "outputs": [],
   "source": [
    "f = open('main_list.json')\n",
    "data = json.load(f)"
   ]
  },
  {
   "cell_type": "code",
   "execution_count": 10,
   "metadata": {},
   "outputs": [],
   "source": [
    "cocktail_list = []\n",
    "for entry in data['drinks']:\n",
    "    drink = {}\n",
    "    drink['Drink'] = entry['strDrink']\n",
    "    drink['Thumbnail'] = entry['strDrinkThumb']\n",
    "    drink['id'] = entry['idDrink']\n",
    "    cocktail_list.append(drink)"
   ]
  },
  {
   "cell_type": "code",
   "execution_count": 13,
   "metadata": {},
   "outputs": [
    {
     "data": {
      "text/html": [
       "<div>\n",
       "<style scoped>\n",
       "    .dataframe tbody tr th:only-of-type {\n",
       "        vertical-align: middle;\n",
       "    }\n",
       "\n",
       "    .dataframe tbody tr th {\n",
       "        vertical-align: top;\n",
       "    }\n",
       "\n",
       "    .dataframe thead th {\n",
       "        text-align: right;\n",
       "    }\n",
       "</style>\n",
       "<table border=\"1\" class=\"dataframe\">\n",
       "  <thead>\n",
       "    <tr style=\"text-align: right;\">\n",
       "      <th></th>\n",
       "      <th>Drink</th>\n",
       "      <th>Thumbnail</th>\n",
       "      <th>id</th>\n",
       "    </tr>\n",
       "  </thead>\n",
       "  <tbody>\n",
       "    <tr>\n",
       "      <th>0</th>\n",
       "      <td>155 Belmont</td>\n",
       "      <td>https://www.thecocktaildb.com/images/media/dri...</td>\n",
       "      <td>15346</td>\n",
       "    </tr>\n",
       "    <tr>\n",
       "      <th>1</th>\n",
       "      <td>57 Chevy with a White License Plate</td>\n",
       "      <td>https://www.thecocktaildb.com/images/media/dri...</td>\n",
       "      <td>14029</td>\n",
       "    </tr>\n",
       "    <tr>\n",
       "      <th>2</th>\n",
       "      <td>747 Drink</td>\n",
       "      <td>https://www.thecocktaildb.com/images/media/dri...</td>\n",
       "      <td>178318</td>\n",
       "    </tr>\n",
       "    <tr>\n",
       "      <th>3</th>\n",
       "      <td>9 1/2 Weeks</td>\n",
       "      <td>https://www.thecocktaildb.com/images/media/dri...</td>\n",
       "      <td>16108</td>\n",
       "    </tr>\n",
       "    <tr>\n",
       "      <th>4</th>\n",
       "      <td>A Gilligan's Island</td>\n",
       "      <td>https://www.thecocktaildb.com/images/media/dri...</td>\n",
       "      <td>16943</td>\n",
       "    </tr>\n",
       "  </tbody>\n",
       "</table>\n",
       "</div>"
      ],
      "text/plain": [
       "                                 Drink  \\\n",
       "0                          155 Belmont   \n",
       "1  57 Chevy with a White License Plate   \n",
       "2                            747 Drink   \n",
       "3                          9 1/2 Weeks   \n",
       "4                  A Gilligan's Island   \n",
       "\n",
       "                                           Thumbnail      id  \n",
       "0  https://www.thecocktaildb.com/images/media/dri...   15346  \n",
       "1  https://www.thecocktaildb.com/images/media/dri...   14029  \n",
       "2  https://www.thecocktaildb.com/images/media/dri...  178318  \n",
       "3  https://www.thecocktaildb.com/images/media/dri...   16108  \n",
       "4  https://www.thecocktaildb.com/images/media/dri...   16943  "
      ]
     },
     "execution_count": 13,
     "metadata": {},
     "output_type": "execute_result"
    }
   ],
   "source": [
    "df = pd.DataFrame(cocktail_list)\n",
    "df.head()"
   ]
  },
  {
   "cell_type": "markdown",
   "metadata": {},
   "source": [
    "## getting the ingredient details using www.thecocktaildb.com/api/json/v1/1/lookup.php?i=11007"
   ]
  },
  {
   "cell_type": "code",
   "execution_count": 16,
   "metadata": {},
   "outputs": [
    {
     "name": "stdout",
     "output_type": "stream",
     "text": [
      "{'drinks': [{'idDrink': '11007', 'strDrink': 'Margarita', 'strDrinkAlternate': None, 'strTags': 'IBA,ContemporaryClassic', 'strVideo': None, 'strCategory': 'Ordinary Drink', 'strIBA': 'Contemporary Classics', 'strAlcoholic': 'Alcoholic', 'strGlass': 'Cocktail glass', 'strInstructions': 'Rub the rim of the glass with the lime slice to make the salt stick to it. Take care to moisten only the outer rim and sprinkle the salt on it. The salt should present to the lips of the imbiber and never mix into the cocktail. Shake the other ingredients with ice, then carefully pour into the glass.', 'strInstructionsES': None, 'strInstructionsDE': 'Reiben Sie den Rand des Glases mit der Limettenscheibe, damit das Salz daran haftet. Achten Sie darauf, dass nur der äußere Rand angefeuchtet wird und streuen Sie das Salz darauf. Das Salz sollte sich auf den Lippen des Genießers befinden und niemals in den Cocktail einmischen. Die anderen Zutaten mit Eis schütteln und vorsichtig in das Glas geben.', 'strInstructionsFR': None, 'strInstructionsIT': 'Strofina il bordo del bicchiere con la fetta di lime per far aderire il sale.\\r\\nAvere cura di inumidire solo il bordo esterno e cospargere di sale.\\r\\nIl sale dovrebbe presentarsi alle labbra del bevitore e non mescolarsi mai al cocktail.\\r\\nShakerare gli altri ingredienti con ghiaccio, quindi versarli delicatamente nel bicchiere.', 'strInstructionsZH-HANS': None, 'strInstructionsZH-HANT': None, 'strDrinkThumb': 'https://www.thecocktaildb.com/images/media/drink/5noda61589575158.jpg', 'strIngredient1': 'Tequila', 'strIngredient2': 'Triple sec', 'strIngredient3': 'Lime juice', 'strIngredient4': 'Salt', 'strIngredient5': None, 'strIngredient6': None, 'strIngredient7': None, 'strIngredient8': None, 'strIngredient9': None, 'strIngredient10': None, 'strIngredient11': None, 'strIngredient12': None, 'strIngredient13': None, 'strIngredient14': None, 'strIngredient15': None, 'strMeasure1': '1 1/2 oz ', 'strMeasure2': '1/2 oz ', 'strMeasure3': '1 oz ', 'strMeasure4': None, 'strMeasure5': None, 'strMeasure6': None, 'strMeasure7': None, 'strMeasure8': None, 'strMeasure9': None, 'strMeasure10': None, 'strMeasure11': None, 'strMeasure12': None, 'strMeasure13': None, 'strMeasure14': None, 'strMeasure15': None, 'strImageSource': 'https://commons.wikimedia.org/wiki/File:Klassiche_Margarita.jpg', 'strImageAttribution': 'Cocktailmarler', 'strCreativeCommonsConfirmed': 'Yes', 'dateModified': '2015-08-18 14:42:59'}]}\n"
     ]
    }
   ],
   "source": [
    "response = requests.get('http://www.thecocktaildb.com/api/json/v1/1/lookup.php?i=11007')\n",
    "print(response.json())"
   ]
  },
  {
   "cell_type": "code",
   "execution_count": 26,
   "metadata": {},
   "outputs": [
    {
     "data": {
      "text/plain": [
       "{'idDrink': '11007',\n",
       " 'strDrink': 'Margarita',\n",
       " 'strDrinkAlternate': None,\n",
       " 'strTags': 'IBA,ContemporaryClassic',\n",
       " 'strVideo': None,\n",
       " 'strCategory': 'Ordinary Drink',\n",
       " 'strIBA': 'Contemporary Classics',\n",
       " 'strAlcoholic': 'Alcoholic',\n",
       " 'strGlass': 'Cocktail glass',\n",
       " 'strInstructions': 'Rub the rim of the glass with the lime slice to make the salt stick to it. Take care to moisten only the outer rim and sprinkle the salt on it. The salt should present to the lips of the imbiber and never mix into the cocktail. Shake the other ingredients with ice, then carefully pour into the glass.',\n",
       " 'strInstructionsES': None,\n",
       " 'strInstructionsDE': 'Reiben Sie den Rand des Glases mit der Limettenscheibe, damit das Salz daran haftet. Achten Sie darauf, dass nur der äußere Rand angefeuchtet wird und streuen Sie das Salz darauf. Das Salz sollte sich auf den Lippen des Genießers befinden und niemals in den Cocktail einmischen. Die anderen Zutaten mit Eis schütteln und vorsichtig in das Glas geben.',\n",
       " 'strInstructionsFR': None,\n",
       " 'strInstructionsIT': 'Strofina il bordo del bicchiere con la fetta di lime per far aderire il sale.\\r\\nAvere cura di inumidire solo il bordo esterno e cospargere di sale.\\r\\nIl sale dovrebbe presentarsi alle labbra del bevitore e non mescolarsi mai al cocktail.\\r\\nShakerare gli altri ingredienti con ghiaccio, quindi versarli delicatamente nel bicchiere.',\n",
       " 'strInstructionsZH-HANS': None,\n",
       " 'strInstructionsZH-HANT': None,\n",
       " 'strDrinkThumb': 'https://www.thecocktaildb.com/images/media/drink/5noda61589575158.jpg',\n",
       " 'strIngredient1': 'Tequila',\n",
       " 'strIngredient2': 'Triple sec',\n",
       " 'strIngredient3': 'Lime juice',\n",
       " 'strIngredient4': 'Salt',\n",
       " 'strIngredient5': None,\n",
       " 'strIngredient6': None,\n",
       " 'strIngredient7': None,\n",
       " 'strIngredient8': None,\n",
       " 'strIngredient9': None,\n",
       " 'strIngredient10': None,\n",
       " 'strIngredient11': None,\n",
       " 'strIngredient12': None,\n",
       " 'strIngredient13': None,\n",
       " 'strIngredient14': None,\n",
       " 'strIngredient15': None,\n",
       " 'strMeasure1': '1 1/2 oz ',\n",
       " 'strMeasure2': '1/2 oz ',\n",
       " 'strMeasure3': '1 oz ',\n",
       " 'strMeasure4': None,\n",
       " 'strMeasure5': None,\n",
       " 'strMeasure6': None,\n",
       " 'strMeasure7': None,\n",
       " 'strMeasure8': None,\n",
       " 'strMeasure9': None,\n",
       " 'strMeasure10': None,\n",
       " 'strMeasure11': None,\n",
       " 'strMeasure12': None,\n",
       " 'strMeasure13': None,\n",
       " 'strMeasure14': None,\n",
       " 'strMeasure15': None,\n",
       " 'strImageSource': 'https://commons.wikimedia.org/wiki/File:Klassiche_Margarita.jpg',\n",
       " 'strImageAttribution': 'Cocktailmarler',\n",
       " 'strCreativeCommonsConfirmed': 'Yes',\n",
       " 'dateModified': '2015-08-18 14:42:59'}"
      ]
     },
     "execution_count": 26,
     "metadata": {},
     "output_type": "execute_result"
    }
   ],
   "source": [
    "response.json()['drinks'][0]"
   ]
  },
  {
   "cell_type": "code",
   "execution_count": 20,
   "metadata": {},
   "outputs": [
    {
     "data": {
      "text/plain": [
       "dict_keys(['idDrink', 'strDrink', 'strDrinkAlternate', 'strTags', 'strVideo', 'strCategory', 'strIBA', 'strAlcoholic', 'strGlass', 'strInstructions', 'strInstructionsES', 'strInstructionsDE', 'strInstructionsFR', 'strInstructionsIT', 'strInstructionsZH-HANS', 'strInstructionsZH-HANT', 'strDrinkThumb', 'strIngredient1', 'strIngredient2', 'strIngredient3', 'strIngredient4', 'strIngredient5', 'strIngredient6', 'strIngredient7', 'strIngredient8', 'strIngredient9', 'strIngredient10', 'strIngredient11', 'strIngredient12', 'strIngredient13', 'strIngredient14', 'strIngredient15', 'strMeasure1', 'strMeasure2', 'strMeasure3', 'strMeasure4', 'strMeasure5', 'strMeasure6', 'strMeasure7', 'strMeasure8', 'strMeasure9', 'strMeasure10', 'strMeasure11', 'strMeasure12', 'strMeasure13', 'strMeasure14', 'strMeasure15', 'strImageSource', 'strImageAttribution', 'strCreativeCommonsConfirmed', 'dateModified'])"
      ]
     },
     "execution_count": 20,
     "metadata": {},
     "output_type": "execute_result"
    }
   ],
   "source": [
    "response.json()['drinks'][0].keys()"
   ]
  },
  {
   "cell_type": "code",
   "execution_count": 29,
   "metadata": {},
   "outputs": [],
   "source": [
    "drink_ids = list(df.id.values)\n",
    "full_recipes = {}\n",
    "api_str = 'http://www.thecocktaildb.com/api/json/v1/1/lookup.php?i='"
   ]
  },
  {
   "cell_type": "code",
   "execution_count": 30,
   "metadata": {},
   "outputs": [],
   "source": [
    "for drink_id in drink_ids:\n",
    "    id_str = str(drink_id)\n",
    "    response = requests.get(api_str+id_str)\n",
    "    response = response.json()['drinks'][0]\n",
    "    full_recipes[id_str] = response"
   ]
  },
  {
   "cell_type": "code",
   "execution_count": 31,
   "metadata": {},
   "outputs": [
    {
     "name": "stdout",
     "output_type": "stream",
     "text": [
      "{'idDrink': '15346', 'strDrink': '155 Belmont', 'strDrinkAlternate': None, 'strTags': None, 'strVideo': None, 'strCategory': 'Cocktail', 'strIBA': None, 'strAlcoholic': 'Alcoholic', 'strGlass': 'White wine glass', 'strInstructions': 'Blend with ice. Serve in a wine glass. Garnish with carrot.', 'strInstructionsES': None, 'strInstructionsDE': 'Mit Eis vermischen. In einem Weinglas servieren. Mit Karotte garnieren.', 'strInstructionsFR': None, 'strInstructionsIT': 'Miscela con ghiaccio.\\r\\nServire in un bicchiere da vino.\\r\\nGuarnire con una carota.', 'strInstructionsZH-HANS': None, 'strInstructionsZH-HANT': None, 'strDrinkThumb': 'https://www.thecocktaildb.com/images/media/drink/yqvvqs1475667388.jpg', 'strIngredient1': 'Dark rum', 'strIngredient2': 'Light rum', 'strIngredient3': 'Vodka', 'strIngredient4': 'Orange juice', 'strIngredient5': None, 'strIngredient6': None, 'strIngredient7': None, 'strIngredient8': None, 'strIngredient9': None, 'strIngredient10': None, 'strIngredient11': None, 'strIngredient12': None, 'strIngredient13': None, 'strIngredient14': None, 'strIngredient15': None, 'strMeasure1': '1 shot ', 'strMeasure2': '2 shots ', 'strMeasure3': '1 shot ', 'strMeasure4': '1 shot ', 'strMeasure5': None, 'strMeasure6': None, 'strMeasure7': None, 'strMeasure8': None, 'strMeasure9': None, 'strMeasure10': None, 'strMeasure11': None, 'strMeasure12': None, 'strMeasure13': None, 'strMeasure14': None, 'strMeasure15': None, 'strImageSource': None, 'strImageAttribution': None, 'strCreativeCommonsConfirmed': 'No', 'dateModified': '2016-10-05 12:36:28'}\n",
      "{'idDrink': '14029', 'strDrink': '57 Chevy with a White License Plate', 'strDrinkAlternate': None, 'strTags': None, 'strVideo': None, 'strCategory': 'Cocktail', 'strIBA': None, 'strAlcoholic': 'Alcoholic', 'strGlass': 'Highball glass', 'strInstructions': '1. Fill a rocks glass with ice 2.add white creme de cacao and vodka 3.stir', 'strInstructionsES': None, 'strInstructionsDE': '1. Füllen Sie ein Rocks Glas mit Eis 2. Geben Sie weiße Creme de Kakao und Wodka hinzu. 3. Umrühren.', 'strInstructionsFR': None, 'strInstructionsIT': '1. Riempi un bicchiere di tipo highball con ghiaccio\\r\\n2. Aggiungere la crema di cacao bianca e la vodka\\r\\n3. mescolare', 'strInstructionsZH-HANS': None, 'strInstructionsZH-HANT': None, 'strDrinkThumb': 'https://www.thecocktaildb.com/images/media/drink/qyyvtu1468878544.jpg', 'strIngredient1': 'Creme de Cacao', 'strIngredient2': 'Vodka', 'strIngredient3': None, 'strIngredient4': None, 'strIngredient5': None, 'strIngredient6': None, 'strIngredient7': None, 'strIngredient8': None, 'strIngredient9': None, 'strIngredient10': None, 'strIngredient11': None, 'strIngredient12': None, 'strIngredient13': None, 'strIngredient14': None, 'strIngredient15': None, 'strMeasure1': '1 oz white ', 'strMeasure2': '1 oz ', 'strMeasure3': None, 'strMeasure4': None, 'strMeasure5': None, 'strMeasure6': None, 'strMeasure7': None, 'strMeasure8': None, 'strMeasure9': None, 'strMeasure10': None, 'strMeasure11': None, 'strMeasure12': None, 'strMeasure13': None, 'strMeasure14': None, 'strMeasure15': None, 'strImageSource': None, 'strImageAttribution': None, 'strCreativeCommonsConfirmed': 'No', 'dateModified': '2016-07-18 22:49:04'}\n",
      "{'idDrink': '178318', 'strDrink': '747 Drink', 'strDrinkAlternate': None, 'strTags': None, 'strVideo': None, 'strCategory': 'Cocktail', 'strIBA': None, 'strAlcoholic': 'Alcoholic', 'strGlass': 'Highball glass', 'strInstructions': 'Fill a Collins glass with ice.\\r\\nPour in vodka, lime cordial, and cranberry juice.\\r\\nFill up with Sprite.\\r\\nGarnish with a Lime wheel or some cranberries', 'strInstructionsES': None, 'strInstructionsDE': None, 'strInstructionsFR': None, 'strInstructionsIT': '\\r\\nRiempi un bicchiere Collins di ghiaccio.\\r\\nVersare la vodka, lo sciroppo di lime e il succo di mirtillo rosso.\\r\\nRiempi con Sprite.\\r\\nGuarnire con una fetta di lime o dei mirtilli rossi', 'strInstructionsZH-HANS': None, 'strInstructionsZH-HANT': None, 'strDrinkThumb': 'https://www.thecocktaildb.com/images/media/drink/i9suxb1582474926.jpg', 'strIngredient1': 'Vodka', 'strIngredient2': 'Roses sweetened lime juice', 'strIngredient3': 'Cranberry Juice', 'strIngredient4': 'Sprite', 'strIngredient5': '', 'strIngredient6': '', 'strIngredient7': '', 'strIngredient8': None, 'strIngredient9': None, 'strIngredient10': None, 'strIngredient11': None, 'strIngredient12': None, 'strIngredient13': None, 'strIngredient14': None, 'strIngredient15': None, 'strMeasure1': '1 oz', 'strMeasure2': '1 oz', 'strMeasure3': '1 oz', 'strMeasure4': 'Top', 'strMeasure5': '', 'strMeasure6': '', 'strMeasure7': '', 'strMeasure8': None, 'strMeasure9': None, 'strMeasure10': None, 'strMeasure11': None, 'strMeasure12': None, 'strMeasure13': None, 'strMeasure14': None, 'strMeasure15': None, 'strImageSource': None, 'strImageAttribution': None, 'strCreativeCommonsConfirmed': 'Yes', 'dateModified': None}\n",
      "{'idDrink': '16108', 'strDrink': '9 1/2 Weeks', 'strDrinkAlternate': None, 'strTags': None, 'strVideo': None, 'strCategory': 'Cocktail', 'strIBA': None, 'strAlcoholic': 'Alcoholic', 'strGlass': 'Cocktail glass', 'strInstructions': 'Combine all ingredients in glass mixer. Chill and strain into Cocktail glass. Garnish with sliced strawberry.', 'strInstructionsES': None, 'strInstructionsDE': 'Alle Zutaten in einem Glasmischer vermengen. Abkühlen lassen und in das Cocktailglas abseihen. Mit Erdbeerscheiben garnieren.', 'strInstructionsFR': None, 'strInstructionsIT': 'Unisci tutti gli ingredienti in una planetaria.\\r\\nRaffredda e versa in un bicchiere da cocktail.\\r\\nGuarnire con la fragola a fette.', 'strInstructionsZH-HANS': None, 'strInstructionsZH-HANT': None, 'strDrinkThumb': 'https://www.thecocktaildb.com/images/media/drink/xvwusr1472669302.jpg', 'strIngredient1': 'Absolut Citron', 'strIngredient2': 'Orange Curacao', 'strIngredient3': 'Strawberry liqueur', 'strIngredient4': 'Orange juice', 'strIngredient5': None, 'strIngredient6': None, 'strIngredient7': None, 'strIngredient8': None, 'strIngredient9': None, 'strIngredient10': None, 'strIngredient11': None, 'strIngredient12': None, 'strIngredient13': None, 'strIngredient14': None, 'strIngredient15': None, 'strMeasure1': '2 oz ', 'strMeasure2': '1/2 oz ', 'strMeasure3': '1 splash ', 'strMeasure4': '1 oz ', 'strMeasure5': None, 'strMeasure6': None, 'strMeasure7': None, 'strMeasure8': None, 'strMeasure9': None, 'strMeasure10': None, 'strMeasure11': None, 'strMeasure12': None, 'strMeasure13': None, 'strMeasure14': None, 'strMeasure15': None, 'strImageSource': None, 'strImageAttribution': None, 'strCreativeCommonsConfirmed': 'No', 'dateModified': '2016-08-31 19:48:22'}\n",
      "{'idDrink': '16943', 'strDrink': \"A Gilligan's Island\", 'strDrinkAlternate': None, 'strTags': None, 'strVideo': None, 'strCategory': 'Cocktail', 'strIBA': None, 'strAlcoholic': 'Alcoholic', 'strGlass': 'Collins glass', 'strInstructions': 'Shaken, not stirred!', 'strInstructionsES': None, 'strInstructionsDE': 'Geschüttelt, nicht gerührt!', 'strInstructionsFR': None, 'strInstructionsIT': 'Agita non mescolare!', 'strInstructionsZH-HANS': None, 'strInstructionsZH-HANT': None, 'strDrinkThumb': 'https://www.thecocktaildb.com/images/media/drink/wysqut1461867176.jpg', 'strIngredient1': 'Vodka', 'strIngredient2': 'Peach schnapps', 'strIngredient3': 'Orange juice', 'strIngredient4': 'Cranberry juice', 'strIngredient5': None, 'strIngredient6': None, 'strIngredient7': None, 'strIngredient8': None, 'strIngredient9': None, 'strIngredient10': None, 'strIngredient11': None, 'strIngredient12': None, 'strIngredient13': None, 'strIngredient14': None, 'strIngredient15': None, 'strMeasure1': '1 oz ', 'strMeasure2': '1 oz ', 'strMeasure3': '3 oz ', 'strMeasure4': '3 oz ', 'strMeasure5': None, 'strMeasure6': None, 'strMeasure7': None, 'strMeasure8': None, 'strMeasure9': None, 'strMeasure10': None, 'strMeasure11': None, 'strMeasure12': None, 'strMeasure13': None, 'strMeasure14': None, 'strMeasure15': None, 'strImageSource': None, 'strImageAttribution': None, 'strCreativeCommonsConfirmed': 'No', 'dateModified': '2016-04-28 19:12:56'}\n"
     ]
    }
   ],
   "source": [
    "for drink_id in drink_ids[:5]:\n",
    "    id_str = str(drink_id)\n",
    "    print(full_recipes[id_str])"
   ]
  },
  {
   "cell_type": "code",
   "execution_count": 32,
   "metadata": {},
   "outputs": [],
   "source": [
    "json_object = json.dumps(full_recipes, indent = 4)"
   ]
  },
  {
   "cell_type": "code",
   "execution_count": 34,
   "metadata": {},
   "outputs": [],
   "source": [
    "with open(\"recipe_dump.json\", \"w\") as outfile:\n",
    "    json.dump(full_recipes, outfile)"
   ]
  },
  {
   "cell_type": "code",
   "execution_count": null,
   "metadata": {},
   "outputs": [],
   "source": []
  }
 ],
 "metadata": {
  "kernelspec": {
   "display_name": "Python 3",
   "language": "python",
   "name": "python3"
  },
  "language_info": {
   "codemirror_mode": {
    "name": "ipython",
    "version": 3
   },
   "file_extension": ".py",
   "mimetype": "text/x-python",
   "name": "python",
   "nbconvert_exporter": "python",
   "pygments_lexer": "ipython3",
   "version": "3.8.5"
  }
 },
 "nbformat": 4,
 "nbformat_minor": 4
}
